{
 "cells": [
  {
   "cell_type": "code",
   "execution_count": 2,
   "metadata": {},
   "outputs": [
    {
     "data": {
      "text/html": [
       "<div>\n",
       "<style scoped>\n",
       "    .dataframe tbody tr th:only-of-type {\n",
       "        vertical-align: middle;\n",
       "    }\n",
       "\n",
       "    .dataframe tbody tr th {\n",
       "        vertical-align: top;\n",
       "    }\n",
       "\n",
       "    .dataframe thead th {\n",
       "        text-align: right;\n",
       "    }\n",
       "</style>\n",
       "<table border=\"1\" class=\"dataframe\">\n",
       "  <thead>\n",
       "    <tr style=\"text-align: right;\">\n",
       "      <th></th>\n",
       "      <th>c_id</th>\n",
       "      <th>yr</th>\n",
       "      <th>mth</th>\n",
       "      <th>date?</th>\n",
       "      <th>children?</th>\n",
       "      <th>charges?</th>\n",
       "      <th>host_tier</th>\n",
       "      <th>Ct_tier</th>\n",
       "      <th>st_id</th>\n",
       "      <th>Has_Children</th>\n",
       "      <th>Is_Frequent_Treatment</th>\n",
       "    </tr>\n",
       "  </thead>\n",
       "  <tbody>\n",
       "    <tr>\n",
       "      <th>0</th>\n",
       "      <td>Id2335</td>\n",
       "      <td>1992</td>\n",
       "      <td>Jul</td>\n",
       "      <td>9</td>\n",
       "      <td>0</td>\n",
       "      <td>563.84</td>\n",
       "      <td>tier - 2</td>\n",
       "      <td>tier - 3</td>\n",
       "      <td>R1013</td>\n",
       "      <td>no</td>\n",
       "      <td>no</td>\n",
       "    </tr>\n",
       "    <tr>\n",
       "      <th>1</th>\n",
       "      <td>Id2334</td>\n",
       "      <td>1992</td>\n",
       "      <td>Nov</td>\n",
       "      <td>30</td>\n",
       "      <td>0</td>\n",
       "      <td>570.62</td>\n",
       "      <td>tier - 2</td>\n",
       "      <td>tier - 1</td>\n",
       "      <td>R1013</td>\n",
       "      <td>no</td>\n",
       "      <td>no</td>\n",
       "    </tr>\n",
       "    <tr>\n",
       "      <th>2</th>\n",
       "      <td>Id2333</td>\n",
       "      <td>1993</td>\n",
       "      <td>NaN</td>\n",
       "      <td>30</td>\n",
       "      <td>0</td>\n",
       "      <td>600.00</td>\n",
       "      <td>tier - 2</td>\n",
       "      <td>tier - 1</td>\n",
       "      <td>R1013</td>\n",
       "      <td>no</td>\n",
       "      <td>no</td>\n",
       "    </tr>\n",
       "    <tr>\n",
       "      <th>3</th>\n",
       "      <td>Id2332</td>\n",
       "      <td>1992</td>\n",
       "      <td>Sep</td>\n",
       "      <td>13</td>\n",
       "      <td>0</td>\n",
       "      <td>604.54</td>\n",
       "      <td>tier - 3</td>\n",
       "      <td>tier - 3</td>\n",
       "      <td>R1013</td>\n",
       "      <td>no</td>\n",
       "      <td>no</td>\n",
       "    </tr>\n",
       "    <tr>\n",
       "      <th>4</th>\n",
       "      <td>Id2331</td>\n",
       "      <td>1998</td>\n",
       "      <td>Jul</td>\n",
       "      <td>27</td>\n",
       "      <td>0</td>\n",
       "      <td>637.26</td>\n",
       "      <td>tier - 3</td>\n",
       "      <td>tier - 3</td>\n",
       "      <td>R1013</td>\n",
       "      <td>no</td>\n",
       "      <td>no</td>\n",
       "    </tr>\n",
       "  </tbody>\n",
       "</table>\n",
       "</div>"
      ],
      "text/plain": [
       "     c_id    yr  mth  date?  children?  charges? host_tier   Ct_tier  st_id  \\\n",
       "0  Id2335  1992  Jul      9          0    563.84  tier - 2  tier - 3  R1013   \n",
       "1  Id2334  1992  Nov     30          0    570.62  tier - 2  tier - 1  R1013   \n",
       "2  Id2333  1993  NaN     30          0    600.00  tier - 2  tier - 1  R1013   \n",
       "3  Id2332  1992  Sep     13          0    604.54  tier - 3  tier - 3  R1013   \n",
       "4  Id2331  1998  Jul     27          0    637.26  tier - 3  tier - 3  R1013   \n",
       "\n",
       "  Has_Children Is_Frequent_Treatment  \n",
       "0           no                    no  \n",
       "1           no                    no  \n",
       "2           no                    no  \n",
       "3           no                    no  \n",
       "4           no                    no  "
      ]
     },
     "execution_count": 2,
     "metadata": {},
     "output_type": "execute_result"
    }
   ],
   "source": [
    "import pandas as pd\n",
    "\n",
    "hosp_d = pd.read_csv('./hospitalisation_details.csv')\n",
    "\n",
    "hosp_d.head()"
   ]
  },
  {
   "cell_type": "code",
   "execution_count": 3,
   "metadata": {},
   "outputs": [
    {
     "data": {
      "text/plain": [
       "c_id                     0\n",
       "yr                       0\n",
       "mth                      1\n",
       "date?                    0\n",
       "children?                0\n",
       "charges?                 0\n",
       "host_tier                0\n",
       "Ct_tier                  0\n",
       "st_id                    0\n",
       "Has_Children             0\n",
       "Is_Frequent_Treatment    0\n",
       "dtype: int64"
      ]
     },
     "execution_count": 3,
     "metadata": {},
     "output_type": "execute_result"
    }
   ],
   "source": [
    "hosp_d.isnull().sum()"
   ]
  },
  {
   "cell_type": "code",
   "execution_count": 4,
   "metadata": {},
   "outputs": [
    {
     "data": {
      "text/plain": [
       "c_id                      object\n",
       "yr                         int64\n",
       "mth                       object\n",
       "date?                      int64\n",
       "children?                  int64\n",
       "charges?                 float64\n",
       "host_tier                 object\n",
       "Ct_tier                   object\n",
       "st_id                     object\n",
       "Has_Children              object\n",
       "Is_Frequent_Treatment     object\n",
       "dtype: object"
      ]
     },
     "execution_count": 4,
     "metadata": {},
     "output_type": "execute_result"
    }
   ],
   "source": [
    "hosp_d.dtypes"
   ]
  },
  {
   "cell_type": "code",
   "execution_count": 5,
   "metadata": {},
   "outputs": [
    {
     "data": {
      "text/plain": [
       "89"
      ]
     },
     "execution_count": 5,
     "metadata": {},
     "output_type": "execute_result"
    }
   ],
   "source": [
    "hosp_d.duplicated().sum()"
   ]
  },
  {
   "cell_type": "code",
   "execution_count": 6,
   "metadata": {},
   "outputs": [],
   "source": [
    "hosp_d.drop_duplicates(inplace=True)"
   ]
  },
  {
   "cell_type": "code",
   "execution_count": 7,
   "metadata": {},
   "outputs": [
    {
     "data": {
      "text/plain": [
       "no     1192\n",
       "yes    1151\n",
       "Name: Has_Children, dtype: int64"
      ]
     },
     "execution_count": 7,
     "metadata": {},
     "output_type": "execute_result"
    }
   ],
   "source": [
    "hosp_d['Has_Children'].value_counts()"
   ]
  },
  {
   "cell_type": "code",
   "execution_count": 8,
   "metadata": {},
   "outputs": [
    {
     "data": {
      "text/plain": [
       "no     1213\n",
       "yes    1130\n",
       "Name: Is_Frequent_Treatment, dtype: int64"
      ]
     },
     "execution_count": 8,
     "metadata": {},
     "output_type": "execute_result"
    }
   ],
   "source": [
    "hosp_d['Is_Frequent_Treatment'].value_counts()"
   ]
  },
  {
   "cell_type": "code",
   "execution_count": 9,
   "metadata": {},
   "outputs": [],
   "source": [
    "new_columns = {\n",
    "    'c_id': 'customer_id',\n",
    "    'yr': 'year',\n",
    "    'mth': 'month',\n",
    "    'date?': 'date',\n",
    "    'children?': 'children',\n",
    "    'charges?': 'charges',\n",
    "    'host_tier': 'hospital_tier',\n",
    "    'Ct_tier': 'city_tier',\n",
    "    'st_id': 'state_id'\n",
    "}\n",
    "\n",
    "hosp_d.rename(columns=new_columns, inplace=True)"
   ]
  },
  {
   "cell_type": "code",
   "execution_count": 10,
   "metadata": {},
   "outputs": [
    {
     "data": {
      "text/html": [
       "<div>\n",
       "<style scoped>\n",
       "    .dataframe tbody tr th:only-of-type {\n",
       "        vertical-align: middle;\n",
       "    }\n",
       "\n",
       "    .dataframe tbody tr th {\n",
       "        vertical-align: top;\n",
       "    }\n",
       "\n",
       "    .dataframe thead th {\n",
       "        text-align: right;\n",
       "    }\n",
       "</style>\n",
       "<table border=\"1\" class=\"dataframe\">\n",
       "  <thead>\n",
       "    <tr style=\"text-align: right;\">\n",
       "      <th></th>\n",
       "      <th>customer_id</th>\n",
       "      <th>year</th>\n",
       "      <th>month</th>\n",
       "      <th>date</th>\n",
       "      <th>children</th>\n",
       "      <th>charges</th>\n",
       "      <th>hospital_tier</th>\n",
       "      <th>city_tier</th>\n",
       "      <th>state_id</th>\n",
       "      <th>Has_Children</th>\n",
       "      <th>Is_Frequent_Treatment</th>\n",
       "    </tr>\n",
       "  </thead>\n",
       "  <tbody>\n",
       "    <tr>\n",
       "      <th>0</th>\n",
       "      <td>Id2335</td>\n",
       "      <td>1992</td>\n",
       "      <td>Jul</td>\n",
       "      <td>9</td>\n",
       "      <td>0</td>\n",
       "      <td>563.84</td>\n",
       "      <td>tier - 2</td>\n",
       "      <td>tier - 3</td>\n",
       "      <td>R1013</td>\n",
       "      <td>no</td>\n",
       "      <td>no</td>\n",
       "    </tr>\n",
       "    <tr>\n",
       "      <th>1</th>\n",
       "      <td>Id2334</td>\n",
       "      <td>1992</td>\n",
       "      <td>Nov</td>\n",
       "      <td>30</td>\n",
       "      <td>0</td>\n",
       "      <td>570.62</td>\n",
       "      <td>tier - 2</td>\n",
       "      <td>tier - 1</td>\n",
       "      <td>R1013</td>\n",
       "      <td>no</td>\n",
       "      <td>no</td>\n",
       "    </tr>\n",
       "    <tr>\n",
       "      <th>2</th>\n",
       "      <td>Id2333</td>\n",
       "      <td>1993</td>\n",
       "      <td>NaN</td>\n",
       "      <td>30</td>\n",
       "      <td>0</td>\n",
       "      <td>600.00</td>\n",
       "      <td>tier - 2</td>\n",
       "      <td>tier - 1</td>\n",
       "      <td>R1013</td>\n",
       "      <td>no</td>\n",
       "      <td>no</td>\n",
       "    </tr>\n",
       "    <tr>\n",
       "      <th>3</th>\n",
       "      <td>Id2332</td>\n",
       "      <td>1992</td>\n",
       "      <td>Sep</td>\n",
       "      <td>13</td>\n",
       "      <td>0</td>\n",
       "      <td>604.54</td>\n",
       "      <td>tier - 3</td>\n",
       "      <td>tier - 3</td>\n",
       "      <td>R1013</td>\n",
       "      <td>no</td>\n",
       "      <td>no</td>\n",
       "    </tr>\n",
       "    <tr>\n",
       "      <th>4</th>\n",
       "      <td>Id2331</td>\n",
       "      <td>1998</td>\n",
       "      <td>Jul</td>\n",
       "      <td>27</td>\n",
       "      <td>0</td>\n",
       "      <td>637.26</td>\n",
       "      <td>tier - 3</td>\n",
       "      <td>tier - 3</td>\n",
       "      <td>R1013</td>\n",
       "      <td>no</td>\n",
       "      <td>no</td>\n",
       "    </tr>\n",
       "  </tbody>\n",
       "</table>\n",
       "</div>"
      ],
      "text/plain": [
       "  customer_id  year month  date  children  charges hospital_tier city_tier  \\\n",
       "0      Id2335  1992   Jul     9         0   563.84      tier - 2  tier - 3   \n",
       "1      Id2334  1992   Nov    30         0   570.62      tier - 2  tier - 1   \n",
       "2      Id2333  1993   NaN    30         0   600.00      tier - 2  tier - 1   \n",
       "3      Id2332  1992   Sep    13         0   604.54      tier - 3  tier - 3   \n",
       "4      Id2331  1998   Jul    27         0   637.26      tier - 3  tier - 3   \n",
       "\n",
       "  state_id Has_Children Is_Frequent_Treatment  \n",
       "0    R1013           no                    no  \n",
       "1    R1013           no                    no  \n",
       "2    R1013           no                    no  \n",
       "3    R1013           no                    no  \n",
       "4    R1013           no                    no  "
      ]
     },
     "execution_count": 10,
     "metadata": {},
     "output_type": "execute_result"
    }
   ],
   "source": [
    "hosp_d.head()"
   ]
  },
  {
   "cell_type": "code",
   "execution_count": 11,
   "metadata": {},
   "outputs": [
    {
     "data": {
      "text/html": [
       "<div>\n",
       "<style scoped>\n",
       "    .dataframe tbody tr th:only-of-type {\n",
       "        vertical-align: middle;\n",
       "    }\n",
       "\n",
       "    .dataframe tbody tr th {\n",
       "        vertical-align: top;\n",
       "    }\n",
       "\n",
       "    .dataframe thead th {\n",
       "        text-align: right;\n",
       "    }\n",
       "</style>\n",
       "<table border=\"1\" class=\"dataframe\">\n",
       "  <thead>\n",
       "    <tr style=\"text-align: right;\">\n",
       "      <th></th>\n",
       "      <th>cid</th>\n",
       "      <th>b_m_i</th>\n",
       "      <th>HBA1C</th>\n",
       "      <th>h_Issues</th>\n",
       "      <th>any_transplant</th>\n",
       "      <th>cancer_hist</th>\n",
       "      <th>noofmajorsurgeries</th>\n",
       "      <th>smoker??</th>\n",
       "      <th>recovery_period</th>\n",
       "    </tr>\n",
       "  </thead>\n",
       "  <tbody>\n",
       "    <tr>\n",
       "      <th>0</th>\n",
       "      <td>Id1</td>\n",
       "      <td>47.410</td>\n",
       "      <td>7.47</td>\n",
       "      <td>No</td>\n",
       "      <td>No</td>\n",
       "      <td>No</td>\n",
       "      <td>No major surgery</td>\n",
       "      <td>yes</td>\n",
       "      <td>None</td>\n",
       "    </tr>\n",
       "    <tr>\n",
       "      <th>1</th>\n",
       "      <td>Id2</td>\n",
       "      <td>30.360</td>\n",
       "      <td>5.77</td>\n",
       "      <td>No</td>\n",
       "      <td>No</td>\n",
       "      <td>No</td>\n",
       "      <td>No major surgery</td>\n",
       "      <td>yes</td>\n",
       "      <td>None</td>\n",
       "    </tr>\n",
       "    <tr>\n",
       "      <th>2</th>\n",
       "      <td>Id3</td>\n",
       "      <td>34.485</td>\n",
       "      <td>11.87</td>\n",
       "      <td>yes</td>\n",
       "      <td>No</td>\n",
       "      <td>No</td>\n",
       "      <td>2</td>\n",
       "      <td>yes</td>\n",
       "      <td>Moderate</td>\n",
       "    </tr>\n",
       "    <tr>\n",
       "      <th>3</th>\n",
       "      <td>Id4</td>\n",
       "      <td>38.095</td>\n",
       "      <td>6.05</td>\n",
       "      <td>No</td>\n",
       "      <td>No</td>\n",
       "      <td>No</td>\n",
       "      <td>No major surgery</td>\n",
       "      <td>yes</td>\n",
       "      <td>None</td>\n",
       "    </tr>\n",
       "    <tr>\n",
       "      <th>4</th>\n",
       "      <td>Id5</td>\n",
       "      <td>35.530</td>\n",
       "      <td>5.45</td>\n",
       "      <td>No</td>\n",
       "      <td>No</td>\n",
       "      <td>No</td>\n",
       "      <td>No major surgery</td>\n",
       "      <td>yes</td>\n",
       "      <td>None</td>\n",
       "    </tr>\n",
       "  </tbody>\n",
       "</table>\n",
       "</div>"
      ],
      "text/plain": [
       "   cid   b_m_i  HBA1C h_Issues any_transplant cancer_hist noofmajorsurgeries  \\\n",
       "0  Id1  47.410   7.47       No             No          No   No major surgery   \n",
       "1  Id2  30.360   5.77       No             No          No   No major surgery   \n",
       "2  Id3  34.485  11.87      yes             No          No                  2   \n",
       "3  Id4  38.095   6.05       No             No          No   No major surgery   \n",
       "4  Id5  35.530   5.45       No             No          No   No major surgery   \n",
       "\n",
       "  smoker?? recovery_period  \n",
       "0      yes            None  \n",
       "1      yes            None  \n",
       "2      yes        Moderate  \n",
       "3      yes            None  \n",
       "4      yes            None  "
      ]
     },
     "execution_count": 11,
     "metadata": {},
     "output_type": "execute_result"
    }
   ],
   "source": [
    "med_exam = pd.read_csv('./medical_examinations.csv')\n",
    "\n",
    "med_exam.head()"
   ]
  },
  {
   "cell_type": "code",
   "execution_count": 12,
   "metadata": {},
   "outputs": [
    {
     "data": {
      "text/plain": [
       "cid                   0\n",
       "b_m_i                 0\n",
       "HBA1C                 0\n",
       "h_Issues              0\n",
       "any_transplant        0\n",
       "cancer_hist           0\n",
       "noofmajorsurgeries    0\n",
       "smoker??              0\n",
       "recovery_period       0\n",
       "dtype: int64"
      ]
     },
     "execution_count": 12,
     "metadata": {},
     "output_type": "execute_result"
    }
   ],
   "source": [
    "med_exam.isnull().sum()"
   ]
  },
  {
   "cell_type": "code",
   "execution_count": 13,
   "metadata": {},
   "outputs": [
    {
     "data": {
      "text/plain": [
       "cid                    object\n",
       "b_m_i                 float64\n",
       "HBA1C                 float64\n",
       "h_Issues               object\n",
       "any_transplant         object\n",
       "cancer_hist            object\n",
       "noofmajorsurgeries     object\n",
       "smoker??               object\n",
       "recovery_period        object\n",
       "dtype: object"
      ]
     },
     "execution_count": 13,
     "metadata": {},
     "output_type": "execute_result"
    }
   ],
   "source": [
    "med_exam.dtypes"
   ]
  },
  {
   "cell_type": "code",
   "execution_count": 14,
   "metadata": {},
   "outputs": [
    {
     "data": {
      "text/plain": [
       "39"
      ]
     },
     "execution_count": 14,
     "metadata": {},
     "output_type": "execute_result"
    }
   ],
   "source": [
    "med_exam.duplicated().sum()"
   ]
  },
  {
   "cell_type": "code",
   "execution_count": 15,
   "metadata": {},
   "outputs": [],
   "source": [
    "med_exam.drop_duplicates(inplace=True)"
   ]
  },
  {
   "cell_type": "code",
   "execution_count": 16,
   "metadata": {},
   "outputs": [],
   "source": [
    "new_columns = {\n",
    "    'cid': 'customer_id',\n",
    "    'b_m_i': 'BMI',\n",
    "    'h_Issues': 'health_issues',\n",
    "    'cancer_hist': 'cancer_history',\n",
    "    'noofmajorsurgeries': 'numberofmajorsurgeries',\n",
    "    'smoker??': 'smoker'\n",
    "}\n",
    "\n",
    "med_exam.rename(columns=new_columns, inplace=True)"
   ]
  },
  {
   "cell_type": "code",
   "execution_count": 17,
   "metadata": {},
   "outputs": [
    {
     "data": {
      "text/html": [
       "<div>\n",
       "<style scoped>\n",
       "    .dataframe tbody tr th:only-of-type {\n",
       "        vertical-align: middle;\n",
       "    }\n",
       "\n",
       "    .dataframe tbody tr th {\n",
       "        vertical-align: top;\n",
       "    }\n",
       "\n",
       "    .dataframe thead th {\n",
       "        text-align: right;\n",
       "    }\n",
       "</style>\n",
       "<table border=\"1\" class=\"dataframe\">\n",
       "  <thead>\n",
       "    <tr style=\"text-align: right;\">\n",
       "      <th></th>\n",
       "      <th>customer_id</th>\n",
       "      <th>BMI</th>\n",
       "      <th>HBA1C</th>\n",
       "      <th>health_issues</th>\n",
       "      <th>any_transplant</th>\n",
       "      <th>cancer_history</th>\n",
       "      <th>numberofmajorsurgeries</th>\n",
       "      <th>smoker</th>\n",
       "      <th>recovery_period</th>\n",
       "    </tr>\n",
       "  </thead>\n",
       "  <tbody>\n",
       "    <tr>\n",
       "      <th>0</th>\n",
       "      <td>Id1</td>\n",
       "      <td>47.410</td>\n",
       "      <td>7.47</td>\n",
       "      <td>No</td>\n",
       "      <td>No</td>\n",
       "      <td>No</td>\n",
       "      <td>No major surgery</td>\n",
       "      <td>yes</td>\n",
       "      <td>None</td>\n",
       "    </tr>\n",
       "    <tr>\n",
       "      <th>1</th>\n",
       "      <td>Id2</td>\n",
       "      <td>30.360</td>\n",
       "      <td>5.77</td>\n",
       "      <td>No</td>\n",
       "      <td>No</td>\n",
       "      <td>No</td>\n",
       "      <td>No major surgery</td>\n",
       "      <td>yes</td>\n",
       "      <td>None</td>\n",
       "    </tr>\n",
       "    <tr>\n",
       "      <th>2</th>\n",
       "      <td>Id3</td>\n",
       "      <td>34.485</td>\n",
       "      <td>11.87</td>\n",
       "      <td>yes</td>\n",
       "      <td>No</td>\n",
       "      <td>No</td>\n",
       "      <td>2</td>\n",
       "      <td>yes</td>\n",
       "      <td>Moderate</td>\n",
       "    </tr>\n",
       "    <tr>\n",
       "      <th>3</th>\n",
       "      <td>Id4</td>\n",
       "      <td>38.095</td>\n",
       "      <td>6.05</td>\n",
       "      <td>No</td>\n",
       "      <td>No</td>\n",
       "      <td>No</td>\n",
       "      <td>No major surgery</td>\n",
       "      <td>yes</td>\n",
       "      <td>None</td>\n",
       "    </tr>\n",
       "    <tr>\n",
       "      <th>4</th>\n",
       "      <td>Id5</td>\n",
       "      <td>35.530</td>\n",
       "      <td>5.45</td>\n",
       "      <td>No</td>\n",
       "      <td>No</td>\n",
       "      <td>No</td>\n",
       "      <td>No major surgery</td>\n",
       "      <td>yes</td>\n",
       "      <td>None</td>\n",
       "    </tr>\n",
       "  </tbody>\n",
       "</table>\n",
       "</div>"
      ],
      "text/plain": [
       "  customer_id     BMI  HBA1C health_issues any_transplant cancer_history  \\\n",
       "0         Id1  47.410   7.47            No             No             No   \n",
       "1         Id2  30.360   5.77            No             No             No   \n",
       "2         Id3  34.485  11.87           yes             No             No   \n",
       "3         Id4  38.095   6.05            No             No             No   \n",
       "4         Id5  35.530   5.45            No             No             No   \n",
       "\n",
       "  numberofmajorsurgeries smoker recovery_period  \n",
       "0       No major surgery    yes            None  \n",
       "1       No major surgery    yes            None  \n",
       "2                      2    yes        Moderate  \n",
       "3       No major surgery    yes            None  \n",
       "4       No major surgery    yes            None  "
      ]
     },
     "execution_count": 17,
     "metadata": {},
     "output_type": "execute_result"
    }
   ],
   "source": [
    "med_exam.head()"
   ]
  },
  {
   "cell_type": "code",
   "execution_count": 18,
   "metadata": {},
   "outputs": [],
   "source": [
    "med_exam.to_csv('medical_examinations_cleaned.csv', index=False)"
   ]
  },
  {
   "cell_type": "code",
   "execution_count": 19,
   "metadata": {},
   "outputs": [],
   "source": [
    "hosp_d.to_csv('hospitalisation_details_cleaned.csv', index=False)\n"
   ]
  }
 ],
 "metadata": {
  "kernelspec": {
   "display_name": "base",
   "language": "python",
   "name": "python3"
  },
  "language_info": {
   "codemirror_mode": {
    "name": "ipython",
    "version": 3
   },
   "file_extension": ".py",
   "mimetype": "text/x-python",
   "name": "python",
   "nbconvert_exporter": "python",
   "pygments_lexer": "ipython3",
   "version": "3.9.16"
  }
 },
 "nbformat": 4,
 "nbformat_minor": 2
}
